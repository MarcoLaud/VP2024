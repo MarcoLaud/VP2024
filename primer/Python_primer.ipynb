{
  "nbformat": 4,
  "nbformat_minor": 0,
  "metadata": {
    "colab": {
      "provenance": []
    },
    "kernelspec": {
      "name": "python3",
      "display_name": "Python 3"
    },
    "language_info": {
      "name": "python"
    }
  },
  "cells": [
    {
      "cell_type": "markdown",
      "source": [
        "# Introduction to Python\n",
        "\n",
        "---\n",
        "\n",
        "Python is a versatile and powerful programming language widely used in scientific computing, data analysis, and machine learning. Its simplicity and readability make it an excellent choice for beginners, while its rich ecosystem of libraries and tools supports advanced applications in various fields. In this notebook, we introduce the basic syntax and structure of Python, providing a foundation for understanding more complex scripts used in machine learning and physics simulations.\n",
        "\n",
        "We will cover fundamental concepts such as variables, data types, and control flow, which are essential for any programming task. Additionally, we will demonstrate how to perform basic operations, handle different data types, and use comments to document code. This primer aims to equip you with the necessary skills to navigate and understand Python scripts, setting the stage for more advanced topics such as implementing Physics-Informed Neural Networks (PINNs) and solving differential equations. Whether you are new to programming or looking to refresh your knowledge, this introduction will help you get started with Python in a hands-on and practical way."
      ],
      "metadata": {
        "id": "R0wZUIl8ZAlz"
      }
    },
    {
      "cell_type": "markdown",
      "source": [
        "# Basic Syntax and Structure\n",
        "- Comments: How to write comments in Python (# for single-line comments).\n",
        "- Variables: Declaring and using variables (e.g., integers, floats, strings).\n",
        "- Basic Data Types: Introduction to integers, floats, strings, and booleans.\n",
        "- Printing Output: Using print() to display information.\n",
        "- Type Conversion: examples.\n",
        "\n",
        "###Comments\n",
        "---\n",
        "Everything after # is ignored by the interpreter."
      ],
      "metadata": {
        "id": "u3Fbi73JZBMH"
      }
    },
    {
      "cell_type": "code",
      "execution_count": 1,
      "metadata": {
        "id": "_rXahb3-YS4F"
      },
      "outputs": [],
      "source": [
        "# Python Basic Syntax and Structure\n",
        "\n",
        "# 1. Comments\n",
        "# Comments in Python start with the '#' symbol.\n",
        "# They are used to explain code and are ignored by the Python interpreter."
      ]
    },
    {
      "cell_type": "markdown",
      "source": [
        "###Variables\n",
        "---\n",
        "Examples of declaring variables with different data types (integer, float, string, boolean):"
      ],
      "metadata": {
        "id": "VY80mJkrZI9h"
      }
    },
    {
      "cell_type": "code",
      "source": [
        "# 2. Variables\n",
        "# Variables are used to store data. Python does not require explicit declaration.\n",
        "\n",
        "# Integer variable\n",
        "age = 25\n",
        "\n",
        "# Float variable\n",
        "height = 5.9\n",
        "\n",
        "# String variable\n",
        "name = \"Alice\"\n",
        "\n",
        "# Boolean variable\n",
        "is_student = True"
      ],
      "metadata": {
        "id": "p2DY0uLbZ_ZF"
      },
      "execution_count": 2,
      "outputs": []
    },
    {
      "cell_type": "markdown",
      "source": [
        "### Data types\n",
        "---\n",
        "An introduction to integers, floats, strings, and booleans, with examples of each:"
      ],
      "metadata": {
        "id": "PFggpy3SaM1v"
      }
    },
    {
      "cell_type": "code",
      "source": [
        "# 3. Basic Data Types\n",
        "# Python has several built-in data types, including integers, floats, strings, and booleans.\n",
        "\n",
        "# Integer: Whole numbers\n",
        "num_apples = 10\n",
        "\n",
        "# Float: Decimal numbers\n",
        "price = 2.99\n",
        "\n",
        "# String: Text data\n",
        "greeting = \"Hello, world!\"\n",
        "\n",
        "# Boolean: True or False\n",
        "is_open = False"
      ],
      "metadata": {
        "id": "YVAu3_26aS4H"
      },
      "execution_count": 3,
      "outputs": []
    },
    {
      "cell_type": "markdown",
      "source": [
        "### Printing output\n",
        "---\n",
        "The print() function is used to display values of variables and results of expressions."
      ],
      "metadata": {
        "id": "KckbGAAXabjl"
      }
    },
    {
      "cell_type": "code",
      "source": [
        "# Printing variables\n",
        "print(\"Name:\", name)\n",
        "print(\"Age:\", age)\n",
        "print(\"Height:\", height)\n",
        "print(\"Is student:\", is_student)\n",
        "\n",
        "# Printing with strings\n",
        "print(\"Greeting message:\", greeting)\n",
        "\n",
        "# Performing basic operations and printing the result\n",
        "total_price = num_apples * price\n",
        "print(\"Total price for\", num_apples, \"apples is $\", total_price)\n",
        "\n",
        "# Boolean logic example\n",
        "print(\"Is the store open?\", is_open)"
      ],
      "metadata": {
        "colab": {
          "base_uri": "https://localhost:8080/"
        },
        "id": "C0VgSAsBalP0",
        "outputId": "a464b673-194a-46b2-9376-433299e02c10"
      },
      "execution_count": 4,
      "outputs": [
        {
          "output_type": "stream",
          "name": "stdout",
          "text": [
            "Name: Alice\n",
            "Age: 25\n",
            "Height: 5.9\n",
            "Is student: True\n",
            "Greeting message: Hello, world!\n",
            "Total price for 10 apples is $ 29.900000000000002\n",
            "Is the store open? False\n"
          ]
        }
      ]
    },
    {
      "cell_type": "markdown",
      "source": [
        "### Type conversion\n",
        "---\n",
        "Here we show how to convert data types, such as converting an integer to a string or a string to a float. Moreover, we demonstrate boolean logic with a simple comparison."
      ],
      "metadata": {
        "id": "CPeBl0lDa0vb"
      }
    },
    {
      "cell_type": "code",
      "source": [
        "# Python allows type conversion, such as converting an integer to a string.\n",
        "\n",
        "age_str = str(age)  # Convert age (int) to a string\n",
        "print(\"Age in string format:\", age_str)\n",
        "\n",
        "# You can also convert strings to numbers if the content is numeric\n",
        "height_str = \"5.9\"\n",
        "height_float = float(height_str)\n",
        "print(\"Height as a float:\", height_float)\n",
        "\n",
        "# Another example of using boolean\n",
        "is_tall = height > 6\n",
        "print(\"Is tall:\", is_tall)"
      ],
      "metadata": {
        "colab": {
          "base_uri": "https://localhost:8080/"
        },
        "id": "_eQN970abPo1",
        "outputId": "fa8a83c0-ec0e-4040-a11c-ab38249f71c8"
      },
      "execution_count": 5,
      "outputs": [
        {
          "output_type": "stream",
          "name": "stdout",
          "text": [
            "Age in string format: 25\n",
            "Height as a float: 5.9\n",
            "Is tall: False\n"
          ]
        }
      ]
    },
    {
      "cell_type": "markdown",
      "source": [
        "# Control Flow\n",
        "- Conditional Statements: if, elif, and else statements.\n",
        "- Loops: Introduction to for and while loops.\n",
        "\n",
        "### Conditional statements\n",
        "---\n",
        "The if, elif, and else statements allow the program to execute different blocks of code based on specific conditions.\n",
        "Example 1 checks whether a number is positive, negative, or zero.\n",
        "Example 2 determines a person's age category: minor, adult, or senior."
      ],
      "metadata": {
        "id": "OCQb7Dy8cAvE"
      }
    },
    {
      "cell_type": "code",
      "source": [
        "# 1. Conditional Statements\n",
        "# Conditional statements allow you to execute certain pieces of code based on specific conditions.\n",
        "\n",
        "# Example: Check if a number is positive, negative, or zero\n",
        "number = 7\n",
        "\n",
        "if number > 0:\n",
        "    print(\"The number {} is positive.\".format(number))\n",
        "elif number < 0:\n",
        "    print(\"The number {} is negative.\".format(number))\n",
        "else:\n",
        "    print(\"The number {} is zero.\".format(number))\n",
        "\n",
        "# Example: Determine if a person is a minor, adult, or senior\n",
        "age = 30\n",
        "\n",
        "if age < 18:\n",
        "    print(\"You are a minor.\")\n",
        "elif 18 <= age < 65:\n",
        "    print(\"You are an adult.\")\n",
        "else:\n",
        "    print(\"You are a senior.\")"
      ],
      "metadata": {
        "colab": {
          "base_uri": "https://localhost:8080/"
        },
        "id": "EtFzU_5FcvjR",
        "outputId": "9b158880-a555-4b50-84b7-7ccfc15d05bd"
      },
      "execution_count": 6,
      "outputs": [
        {
          "output_type": "stream",
          "name": "stdout",
          "text": [
            "The number 7 is positive.\n",
            "You are an adult.\n"
          ]
        }
      ]
    },
    {
      "cell_type": "markdown",
      "source": [
        "#### For loop\n",
        "---\n",
        "The for loop iterates over a sequence or a range of numbers, executing the block of code for each element. Example 1 iterates over a list of fruits and prints each one. Example 2 calculates the sum of numbers from 1 to 5 using a range."
      ],
      "metadata": {
        "id": "zxMY005cc37O"
      }
    },
    {
      "cell_type": "code",
      "source": [
        "# 2. For Loop\n",
        "# The for loop is used to iterate over a sequence (such as a list, tuple, or string) or a range of numbers.\n",
        "\n",
        "# Example: Print each item in a list\n",
        "fruits = [\"apple\", \"banana\", \"cherry\"]\n",
        "\n",
        "for fruit in fruits:\n",
        "    print(\"I like {}.\".format(fruit))\n",
        "\n",
        "# Example: Sum of numbers in a range\n",
        "sum_numbers = 0\n",
        "for i in range(1, 6):  # range(1, 6) generates numbers from 1 to 5\n",
        "    sum_numbers += i\n",
        "print(\"The sum of numbers from 1 to 5 is {}.\".format(sum_numbers))"
      ],
      "metadata": {
        "colab": {
          "base_uri": "https://localhost:8080/"
        },
        "id": "abenm4OZdEX1",
        "outputId": "be9fe2fe-9a2a-45bd-ed1e-40b19eb3c1bd"
      },
      "execution_count": 7,
      "outputs": [
        {
          "output_type": "stream",
          "name": "stdout",
          "text": [
            "I like apple.\n",
            "I like banana.\n",
            "I like cherry.\n",
            "The sum of numbers from 1 to 5 is 15.\n"
          ]
        }
      ]
    },
    {
      "cell_type": "markdown",
      "source": [
        "#### While loop\n",
        "---\n",
        "The while loop continues to execute as long as the condition is true. Example 1 demonstrates a countdown from 5 to 1. Example 2 repeatedly prompts for a password until the correct one is entered, showing a common use case for while loops."
      ],
      "metadata": {
        "id": "Jh1HBEM4dqlV"
      }
    },
    {
      "cell_type": "code",
      "source": [
        "# 3. While Loop\n",
        "# The while loop repeats a block of code as long as a specified condition is true.\n",
        "\n",
        "# Example: Countdown from 5 to 1\n",
        "count = 5\n",
        "\n",
        "while count > 0:\n",
        "    print(\"Counting down: {}\".format(count))\n",
        "    count -= 1\n",
        "\n",
        "print(\"Blast off!\")\n",
        "\n",
        "# Example: Keep asking for a password until the correct one is entered\n",
        "correct_password = \"forzanapoli1926\"\n",
        "user_password = \"\"\n",
        "\n",
        "while user_password != correct_password:\n",
        "    user_password = input(\"Enter the password: \")\n",
        "\n",
        "print(\"Access granted!\")"
      ],
      "metadata": {
        "colab": {
          "base_uri": "https://localhost:8080/"
        },
        "id": "MQAlrDyud15u",
        "outputId": "7dab6912-b7bd-46ce-d968-c8b1a0be9192"
      },
      "execution_count": 8,
      "outputs": [
        {
          "output_type": "stream",
          "name": "stdout",
          "text": [
            "Counting down: 5\n",
            "Counting down: 4\n",
            "Counting down: 3\n",
            "Counting down: 2\n",
            "Counting down: 1\n",
            "Blast off!\n",
            "Enter the password: forzanapoli1926\n",
            "Access granted!\n"
          ]
        }
      ]
    },
    {
      "cell_type": "markdown",
      "source": [
        "#Data Structures\n",
        "- Lists: Creating, accessing, and modifying lists.\n",
        "- Tuples: Understanding immutable sequences.\n",
        "- Dictionaries: Key-value pairs for storing data.\n",
        "\n",
        "#### Lists\n",
        "---\n",
        "Lists are created using square brackets, with elements separated by commas. List elements are accessed using zero-based indexing. Lists are mutable, so elements can be changed, added, or removed.\n",
        "Examples: Demonstrates creating a list, accessing elements, modifying, adding, and removing elements."
      ],
      "metadata": {
        "id": "6i0MdaEYeG4N"
      }
    },
    {
      "cell_type": "code",
      "source": [
        "# 1. Lists\n",
        "# Lists are ordered, mutable collections of items. They can contain elements of different data types.\n",
        "\n",
        "# Creating a list\n",
        "fruits = [\"apple\", \"banana\", \"cherry\"]\n",
        "\n",
        "# Accessing elements\n",
        "first_fruit = fruits[0]  # Indexing starts at 0\n",
        "print(\"The first fruit is: {}\".format(first_fruit))\n",
        "\n",
        "# Modifying elements\n",
        "fruits[1] = \"blueberry\"\n",
        "print(\"The updated list of fruits: {}\".format(fruits))\n",
        "\n",
        "# Adding elements\n",
        "fruits.append(\"date\")\n",
        "print(\"List after adding a new fruit: {}\".format(fruits))\n",
        "\n",
        "# Removing elements\n",
        "fruits.remove(\"apple\")\n",
        "print(\"List after removing 'apple': {}\".format(fruits))"
      ],
      "metadata": {
        "colab": {
          "base_uri": "https://localhost:8080/"
        },
        "id": "lqHlTUWDe1aw",
        "outputId": "2b4a3dba-08ac-4aca-f7f6-edced138581b"
      },
      "execution_count": 9,
      "outputs": [
        {
          "output_type": "stream",
          "name": "stdout",
          "text": [
            "The first fruit is: apple\n",
            "The updated list of fruits: ['apple', 'blueberry', 'cherry']\n",
            "List after adding a new fruit: ['apple', 'blueberry', 'cherry', 'date']\n",
            "List after removing 'apple': ['blueberry', 'cherry', 'date']\n"
          ]
        }
      ]
    },
    {
      "cell_type": "markdown",
      "source": [
        "#### Tuples\n",
        "---\n",
        "Tuples are created using parentheses, with elements separated by commas. Tuples elements are accessed similarly to lists. Tuples cannot be modified after creation, making them useful for storing fixed collections of items.\n",
        "Examples: Demonstrates creating a tuple and accessing its elements."
      ],
      "metadata": {
        "id": "2q5b70rre9vO"
      }
    },
    {
      "cell_type": "code",
      "source": [
        "# 2. Tuples\n",
        "# Tuples are ordered, immutable collections of items. They are similar to lists but cannot be modified after creation.\n",
        "\n",
        "# Creating a tuple\n",
        "dimensions = (1920, 1080)\n",
        "\n",
        "# Accessing elements\n",
        "width = dimensions[0]\n",
        "height = dimensions[1]\n",
        "print(\"Width: {}, Height: {}\".format(width, height))\n",
        "\n",
        "# Tuples are immutable, so this line would raise an error if uncommented\n",
        "# dimensions[0] = 1280"
      ],
      "metadata": {
        "colab": {
          "base_uri": "https://localhost:8080/"
        },
        "id": "5ix5jsfrfGtn",
        "outputId": "c44a85f4-42bd-4d06-914c-5a1479c06158"
      },
      "execution_count": 10,
      "outputs": [
        {
          "output_type": "stream",
          "name": "stdout",
          "text": [
            "Width: 1920, Height: 1080\n"
          ]
        }
      ]
    },
    {
      "cell_type": "markdown",
      "source": [
        "#### Dictionaries\n",
        "---\n",
        "Dictionaries are created using curly braces, with key-value pairs separated by commas. Dictionary values are accessed using keys, which can be of any immutable type. Dictionaries are mutable, allowing for modification of values and addition of new key-value pairs.\n",
        "Examples: Demonstrates creating a dictionary, accessing, modifying, adding, and removing key-value pairs."
      ],
      "metadata": {
        "id": "iwnILIB4fOhh"
      }
    },
    {
      "cell_type": "code",
      "source": [
        "# 3. Dictionaries\n",
        "# Dictionaries are unordered collections of key-value pairs. They are mutable and allow for fast lookup by keys.\n",
        "\n",
        "# Creating a dictionary\n",
        "student = {\n",
        "    \"name\": \"Alice\",\n",
        "    \"age\": 21,\n",
        "    \"major\": \"Computer Science\"\n",
        "}\n",
        "\n",
        "# Accessing values by key\n",
        "name = student[\"name\"]\n",
        "print(\"Student's name: {}\".format(name))\n",
        "\n",
        "# Modifying values\n",
        "student[\"age\"] = 22\n",
        "print(\"Updated student's age: {}\".format(student[\"age\"]))\n",
        "\n",
        "# Adding new key-value pairs\n",
        "student[\"GPA\"] = 3.8\n",
        "print(\"Student's information after adding GPA: {}\".format(student))\n",
        "\n",
        "# Removing key-value pairs\n",
        "del student[\"major\"]\n",
        "print(\"Student's information after removing major: {}\".format(student))"
      ],
      "metadata": {
        "colab": {
          "base_uri": "https://localhost:8080/"
        },
        "id": "J2SJCNjkfWIw",
        "outputId": "aa67925b-2479-47d3-df3c-9aee7751b89a"
      },
      "execution_count": 11,
      "outputs": [
        {
          "output_type": "stream",
          "name": "stdout",
          "text": [
            "Student's name: Alice\n",
            "Updated student's age: 22\n",
            "Student's information after adding GPA: {'name': 'Alice', 'age': 22, 'major': 'Computer Science', 'GPA': 3.8}\n",
            "Student's information after removing major: {'name': 'Alice', 'age': 22, 'GPA': 3.8}\n"
          ]
        }
      ]
    },
    {
      "cell_type": "markdown",
      "source": [
        "# Functions\n",
        "- Defining Functions: def keyword, parameters, and return values.\n",
        "- Calling Functions: How to use functions and pass arguments.\n",
        "\n",
        "#### Defining a simple function\n",
        "---\n",
        "A function is defined using the def keyword, followed by the function name and parentheses ().\n",
        "The greet() function prints a welcome message when called."
      ],
      "metadata": {
        "id": "OuAMwnr7fuKE"
      }
    },
    {
      "cell_type": "code",
      "source": [
        "# 1. Defining a Simple Function\n",
        "# A function is defined using the 'def' keyword, followed by the function name and parentheses.\n",
        "\n",
        "def greet():\n",
        "    print(\"Hello, welcome to the Python primer!\")\n",
        "\n",
        "# Calling the function\n",
        "greet()\n"
      ],
      "metadata": {
        "colab": {
          "base_uri": "https://localhost:8080/"
        },
        "id": "1pIhOxI1gMfN",
        "outputId": "38b93fdc-8684-4c44-e98f-4210c3046e8b"
      },
      "execution_count": 12,
      "outputs": [
        {
          "output_type": "stream",
          "name": "stdout",
          "text": [
            "Hello, welcome to the Python primer!\n"
          ]
        }
      ]
    },
    {
      "cell_type": "markdown",
      "source": [
        "#### Functions with parameters\n",
        "---\n",
        "Functions can accept parameters, allowing them to work with different inputs. The greet_person(name) function takes a name parameter and prints a personalized greeting."
      ],
      "metadata": {
        "id": "Q0a8ateagQMs"
      }
    },
    {
      "cell_type": "code",
      "source": [
        "def greet_person(name):\n",
        "    print(\"Hello, {}! Welcome to the Python primer.\".format(name))\n",
        "\n",
        "# Calling the function with an argument\n",
        "greet_person(\"Peppe\")\n",
        "greet_person(\"Il Pocho Lavezzi\")"
      ],
      "metadata": {
        "colab": {
          "base_uri": "https://localhost:8080/"
        },
        "id": "CaYLtujLgYVW",
        "outputId": "c829e7e4-50be-4144-ec06-f382ebe8cfad"
      },
      "execution_count": 13,
      "outputs": [
        {
          "output_type": "stream",
          "name": "stdout",
          "text": [
            "Hello, Peppe! Welcome to the Python primer.\n",
            "Hello, Il Pocho Lavezzi! Welcome to the Python primer.\n"
          ]
        }
      ]
    },
    {
      "cell_type": "markdown",
      "source": [
        "#### Functions with multiple parameters\n",
        "---\n",
        "Functions can take multiple parameters, enabling more complex operations.\n",
        "The add_numbers(a, b) function calculates and prints the sum of two numbers."
      ],
      "metadata": {
        "id": "a4iKQ6vHgoVJ"
      }
    },
    {
      "cell_type": "code",
      "source": [
        "# 3. Function with Multiple Parameters\n",
        "# Functions can take multiple parameters.\n",
        "\n",
        "def add_numbers(a, b):\n",
        "    result = a + b\n",
        "    print(\"The sum of {} and {} is {}.\".format(a, b, result))\n",
        "\n",
        "# Calling the function with arguments\n",
        "add_numbers(5, 3)\n",
        "add_numbers(10, 20)"
      ],
      "metadata": {
        "colab": {
          "base_uri": "https://localhost:8080/"
        },
        "id": "bKkvME8mg0PZ",
        "outputId": "8cbc8454-e465-400b-8134-15b8124e9766"
      },
      "execution_count": 14,
      "outputs": [
        {
          "output_type": "stream",
          "name": "stdout",
          "text": [
            "The sum of 5 and 3 is 8.\n",
            "The sum of 10 and 20 is 30.\n"
          ]
        }
      ]
    },
    {
      "cell_type": "markdown",
      "source": [
        "#### Function with return value\n",
        "---\n",
        "Functions can return a value using the return keyword.\n",
        "The multiply_numbers(a, b) function returns the product of two numbers, which can be stored and used elsewhere."
      ],
      "metadata": {
        "id": "_u5N8WCxg4pH"
      }
    },
    {
      "cell_type": "code",
      "source": [
        "# 4. Function with Return Value\n",
        "# Functions can return values using the 'return' keyword.\n",
        "\n",
        "def multiply_numbers(a, b):\n",
        "    return a * b\n",
        "\n",
        "# Storing the result of the function call in a variable\n",
        "product = multiply_numbers(4, 5)\n",
        "print(\"The product of 4 and 5 is {}.\".format(product))"
      ],
      "metadata": {
        "colab": {
          "base_uri": "https://localhost:8080/"
        },
        "id": "yGI5ZWBwg4ai",
        "outputId": "f6486fde-9972-4672-db36-13fd6f790ce8"
      },
      "execution_count": 15,
      "outputs": [
        {
          "output_type": "stream",
          "name": "stdout",
          "text": [
            "The product of 4 and 5 is 20.\n"
          ]
        }
      ]
    },
    {
      "cell_type": "markdown",
      "source": [
        "#### Functions with default parameters\n",
        "---\n",
        "Functions can have default parameter values, which are used if no corresponding argument is provided.\n",
        "The greet_with_time_of_day(name, time_of_day=\"morning\") function greets a person with an optional time of day."
      ],
      "metadata": {
        "id": "4Mb1B1B_hOBR"
      }
    },
    {
      "cell_type": "code",
      "source": [
        "# 5. Functions with Default Parameters\n",
        "# Functions can have default parameter values, which are used if no arguments are provided.\n",
        "\n",
        "def greet_with_time_of_day(name, time_of_day=\"morning\"):\n",
        "    print(\"Good {}, {}!\".format(time_of_day, name))\n",
        "\n",
        "# Calling the function with and without the optional argument\n",
        "greet_with_time_of_day(\"Ciro\")\n",
        "greet_with_time_of_day(\"IL GRANDE MIMMO DANI\", \"afternoon\")"
      ],
      "metadata": {
        "colab": {
          "base_uri": "https://localhost:8080/"
        },
        "id": "GUFzXbphhUWS",
        "outputId": "0e98767f-869a-4738-c08b-45f65d80781a"
      },
      "execution_count": 16,
      "outputs": [
        {
          "output_type": "stream",
          "name": "stdout",
          "text": [
            "Good morning, Ciro!\n",
            "Good afternoon, IL GRANDE MIMMO DANI!\n"
          ]
        }
      ]
    },
    {
      "cell_type": "markdown",
      "source": [
        "#### Functions returning multiple values\n",
        "---\n",
        "Functions can return multiple values as a tuple, which can be unpacked into separate variables.\n",
        "The calculate_area_and_circumference(radius) function returns both the area and circumference of a circle given its radius."
      ],
      "metadata": {
        "id": "zUNfg3oGhjOY"
      }
    },
    {
      "cell_type": "code",
      "source": [
        "# 6. Functions Returning Multiple Values\n",
        "# Functions can return multiple values as a tuple.\n",
        "\n",
        "def calculate_area_and_circumference(radius):\n",
        "    area = 3.14159 * radius * radius\n",
        "    circumference = 2 * 3.14159 * radius\n",
        "    return area, circumference\n",
        "\n",
        "# Storing the returned values in separate variables\n",
        "area, circumference = calculate_area_and_circumference(5)\n",
        "print(\"Area: {}, Circumference: {}\".format(area, circumference))"
      ],
      "metadata": {
        "colab": {
          "base_uri": "https://localhost:8080/"
        },
        "id": "WuUdYVJHhs_v",
        "outputId": "697872c6-279b-4ca5-e023-c8c4d476270f"
      },
      "execution_count": 17,
      "outputs": [
        {
          "output_type": "stream",
          "name": "stdout",
          "text": [
            "Area: 78.53975, Circumference: 31.4159\n"
          ]
        }
      ]
    },
    {
      "cell_type": "markdown",
      "source": [
        "# Basic Libraries and Importing Modules\n",
        "- Numpy: Basics of NumPy for numerical computations (arrays and basic operations).\n",
        "- Matplotlib: Basics of plotting with matplotlib.pyplot.\n",
        "\n",
        "#### Numpy\n",
        "---\n",
        "NumPy is a powerful library for numerical computations. We demonstrate creating arrays, performing element-wise operations, and generating arrays of zeros, ones, and evenly spaced numbers."
      ],
      "metadata": {
        "id": "5Z2E9Xy2h4xv"
      }
    },
    {
      "cell_type": "code",
      "source": [
        "# Importing NumPy for numerical computations\n",
        "import numpy as np\n",
        "\n",
        "# NumPy: Basics of NumPy for numerical computations\n",
        "\n",
        "# Creating a NumPy array\n",
        "array = np.array([1, 2, 3, 4, 5])\n",
        "print(\"NumPy array:\", array)\n",
        "\n",
        "# Basic operations with NumPy arrays\n",
        "squared_array = array ** 2\n",
        "print(\"Squared array:\", squared_array)\n",
        "\n",
        "# Creating an array of zeros and ones\n",
        "zeros_array = np.zeros(5)\n",
        "ones_array = np.ones(5)\n",
        "print(\"Zeros array:\", zeros_array)\n",
        "print(\"Ones array:\", ones_array)\n",
        "\n",
        "# Generating an array of evenly spaced numbers\n",
        "linear_space = np.linspace(0, 10, 5)\n",
        "print(\"Linearly spaced array:\", linear_space)"
      ],
      "metadata": {
        "colab": {
          "base_uri": "https://localhost:8080/"
        },
        "id": "LlDC4Ze4jF-D",
        "outputId": "7da5f270-8d2a-443e-9934-9b6c92555d33"
      },
      "execution_count": 18,
      "outputs": [
        {
          "output_type": "stream",
          "name": "stdout",
          "text": [
            "NumPy array: [1 2 3 4 5]\n",
            "Squared array: [ 1  4  9 16 25]\n",
            "Zeros array: [0. 0. 0. 0. 0.]\n",
            "Ones array: [1. 1. 1. 1. 1.]\n",
            "Linearly spaced array: [ 0.   2.5  5.   7.5 10. ]\n"
          ]
        }
      ]
    },
    {
      "cell_type": "code",
      "source": [
        "# Example 1: Simple Mathematical Operations\n",
        "# Basic arithmetic operations and their applications\n",
        "a = 10\n",
        "b = 5\n",
        "sum_ab = a + b\n",
        "difference = a - b\n",
        "product = a * b\n",
        "quotient = a / b\n",
        "\n",
        "print(\"Sum of {} and {} is {}\".format(a, b, sum_ab))\n",
        "print(\"Difference between {} and {} is {}\".format(a, b, difference))\n",
        "print(\"Product of {} and {} is {}\".format(a, b, product))\n",
        "print(\"Quotient of {} and {} is {}\".format(a, b, quotient))"
      ],
      "metadata": {
        "colab": {
          "base_uri": "https://localhost:8080/"
        },
        "id": "UMMFc3xKjU8M",
        "outputId": "ef59b266-6b33-4140-9780-7bd56a27ba84"
      },
      "execution_count": 19,
      "outputs": [
        {
          "output_type": "stream",
          "name": "stdout",
          "text": [
            "Sum of 10 and 5 is 15\n",
            "Difference between 10 and 5 is 5\n",
            "Product of 10 and 5 is 50\n",
            "Quotient of 10 and 5 is 2.0\n"
          ]
        }
      ]
    },
    {
      "cell_type": "markdown",
      "source": [
        "#### Matplotlib\n",
        "---\n",
        "Matplotlib is used for plotting data. We introduce the basic usage of matplotlib.pyplot for creating simple plots."
      ],
      "metadata": {
        "id": "iaAgZ0eBjX0Y"
      }
    },
    {
      "cell_type": "code",
      "source": [
        "# Importing Matplotlib for plotting\n",
        "import matplotlib.pyplot as plt\n",
        "\n",
        "# Example 2: Plotting Simple Functions\n",
        "# Using matplotlib to plot simple mathematical functions (e.g., sine wave)\n",
        "\n",
        "# Define the range of x values\n",
        "x = np.linspace(0, 2 * np.pi, 100)\n",
        "\n",
        "# Compute the sine of each x value\n",
        "y = np.sin(x)\n",
        "\n",
        "# Create the plot\n",
        "plt.plot(x, y)\n",
        "\n",
        "# Add labels and a title\n",
        "plt.xlabel('x values (radians)')\n",
        "plt.ylabel('sin(x)')\n",
        "plt.title('Plot of the Sine Function')\n",
        "\n",
        "# Show the plot\n",
        "plt.show()"
      ],
      "metadata": {
        "colab": {
          "base_uri": "https://localhost:8080/",
          "height": 472
        },
        "id": "QnzpiI8Pjgqr",
        "outputId": "28e2639a-b7e0-4061-a0e0-01e34d1b491c"
      },
      "execution_count": 20,
      "outputs": [
        {
          "output_type": "display_data",
          "data": {
            "text/plain": [
              "<Figure size 640x480 with 1 Axes>"
            ],
            "image/png": "[encoded data removed]"
          },
          "metadata": {}
        }
      ]
    }
  ]
}